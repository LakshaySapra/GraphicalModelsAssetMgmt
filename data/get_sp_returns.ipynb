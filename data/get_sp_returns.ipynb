{
 "cells": [
  {
   "cell_type": "code",
   "execution_count": 1,
   "metadata": {},
   "outputs": [],
   "source": [
    "import pandas as pd\n",
    "import numpy as np"
   ]
  },
  {
   "cell_type": "code",
   "execution_count": 5,
   "metadata": {},
   "outputs": [
    {
     "name": "stderr",
     "output_type": "stream",
     "text": [
      "/var/folders/6g/plqml0hn22g3qdqvmsw_8wsw0000gn/T/ipykernel_6971/1845813826.py:1: DtypeWarning: Columns (6,11,16,22) have mixed types. Specify dtype option on import or set low_memory=False.\n",
      "  return_data = pd.read_csv('CRSP_daily.csv', delimiter=',', parse_dates=[1])\n"
     ]
    }
   ],
   "source": [
    "return_data = pd.read_csv('CRSP_daily.csv', delimiter=',', parse_dates=[1])"
   ]
  },
  {
   "cell_type": "code",
   "execution_count": 6,
   "metadata": {},
   "outputs": [
    {
     "data": {
      "text/html": [
       "<div>\n",
       "<style scoped>\n",
       "    .dataframe tbody tr th:only-of-type {\n",
       "        vertical-align: middle;\n",
       "    }\n",
       "\n",
       "    .dataframe tbody tr th {\n",
       "        vertical-align: top;\n",
       "    }\n",
       "\n",
       "    .dataframe thead th {\n",
       "        text-align: right;\n",
       "    }\n",
       "</style>\n",
       "<table border=\"1\" class=\"dataframe\">\n",
       "  <thead>\n",
       "    <tr style=\"text-align: right;\">\n",
       "      <th></th>\n",
       "      <th>PERMNO</th>\n",
       "      <th>date</th>\n",
       "      <th>SHRCD</th>\n",
       "      <th>EXCHCD</th>\n",
       "      <th>TICKER</th>\n",
       "      <th>COMNAM</th>\n",
       "      <th>SHRCLS</th>\n",
       "      <th>PRIMEXCH</th>\n",
       "      <th>TRDSTAT</th>\n",
       "      <th>SECSTAT</th>\n",
       "      <th>...</th>\n",
       "      <th>ASK</th>\n",
       "      <th>SHROUT</th>\n",
       "      <th>OPENPRC</th>\n",
       "      <th>NUMTRD</th>\n",
       "      <th>RETX</th>\n",
       "      <th>vwretd</th>\n",
       "      <th>vwretx</th>\n",
       "      <th>ewretd</th>\n",
       "      <th>ewretx</th>\n",
       "      <th>sprtrn</th>\n",
       "    </tr>\n",
       "  </thead>\n",
       "  <tbody>\n",
       "    <tr>\n",
       "      <th>0</th>\n",
       "      <td>10104</td>\n",
       "      <td>2009-01-02</td>\n",
       "      <td>11</td>\n",
       "      <td>3</td>\n",
       "      <td>ORCL</td>\n",
       "      <td>ORACLE CORP</td>\n",
       "      <td>NaN</td>\n",
       "      <td>Q</td>\n",
       "      <td>A</td>\n",
       "      <td>R</td>\n",
       "      <td>...</td>\n",
       "      <td>18.39</td>\n",
       "      <td>5046177.0</td>\n",
       "      <td>17.64</td>\n",
       "      <td>83748.0</td>\n",
       "      <td>0.038353</td>\n",
       "      <td>0.030512</td>\n",
       "      <td>0.030311</td>\n",
       "      <td>0.038274</td>\n",
       "      <td>0.038221</td>\n",
       "      <td>0.031608</td>\n",
       "    </tr>\n",
       "    <tr>\n",
       "      <th>1</th>\n",
       "      <td>10104</td>\n",
       "      <td>2009-01-05</td>\n",
       "      <td>11</td>\n",
       "      <td>3</td>\n",
       "      <td>ORCL</td>\n",
       "      <td>ORACLE CORP</td>\n",
       "      <td>NaN</td>\n",
       "      <td>Q</td>\n",
       "      <td>A</td>\n",
       "      <td>R</td>\n",
       "      <td>...</td>\n",
       "      <td>18.09</td>\n",
       "      <td>5046177.0</td>\n",
       "      <td>18.19</td>\n",
       "      <td>96278.0</td>\n",
       "      <td>-0.017382</td>\n",
       "      <td>-0.000600</td>\n",
       "      <td>-0.000623</td>\n",
       "      <td>0.016764</td>\n",
       "      <td>0.016737</td>\n",
       "      <td>-0.004668</td>\n",
       "    </tr>\n",
       "    <tr>\n",
       "      <th>2</th>\n",
       "      <td>10104</td>\n",
       "      <td>2009-01-06</td>\n",
       "      <td>11</td>\n",
       "      <td>3</td>\n",
       "      <td>ORCL</td>\n",
       "      <td>ORACLE CORP</td>\n",
       "      <td>NaN</td>\n",
       "      <td>Q</td>\n",
       "      <td>A</td>\n",
       "      <td>R</td>\n",
       "      <td>...</td>\n",
       "      <td>18.39</td>\n",
       "      <td>5046177.0</td>\n",
       "      <td>18.17</td>\n",
       "      <td>105581.0</td>\n",
       "      <td>0.016584</td>\n",
       "      <td>0.011305</td>\n",
       "      <td>0.011295</td>\n",
       "      <td>0.033647</td>\n",
       "      <td>0.033620</td>\n",
       "      <td>0.007817</td>\n",
       "    </tr>\n",
       "    <tr>\n",
       "      <th>3</th>\n",
       "      <td>10104</td>\n",
       "      <td>2009-01-07</td>\n",
       "      <td>11</td>\n",
       "      <td>3</td>\n",
       "      <td>ORCL</td>\n",
       "      <td>ORACLE CORP</td>\n",
       "      <td>NaN</td>\n",
       "      <td>Q</td>\n",
       "      <td>A</td>\n",
       "      <td>R</td>\n",
       "      <td>...</td>\n",
       "      <td>17.65</td>\n",
       "      <td>5046177.0</td>\n",
       "      <td>18.06</td>\n",
       "      <td>116318.0</td>\n",
       "      <td>-0.040239</td>\n",
       "      <td>-0.030516</td>\n",
       "      <td>-0.030889</td>\n",
       "      <td>-0.022271</td>\n",
       "      <td>-0.022326</td>\n",
       "      <td>-0.030010</td>\n",
       "    </tr>\n",
       "    <tr>\n",
       "      <th>4</th>\n",
       "      <td>10104</td>\n",
       "      <td>2009-01-08</td>\n",
       "      <td>11</td>\n",
       "      <td>3</td>\n",
       "      <td>ORCL</td>\n",
       "      <td>ORACLE CORP</td>\n",
       "      <td>NaN</td>\n",
       "      <td>Q</td>\n",
       "      <td>A</td>\n",
       "      <td>R</td>\n",
       "      <td>...</td>\n",
       "      <td>17.62</td>\n",
       "      <td>5046177.0</td>\n",
       "      <td>17.50</td>\n",
       "      <td>112164.0</td>\n",
       "      <td>-0.0017</td>\n",
       "      <td>0.006281</td>\n",
       "      <td>0.006247</td>\n",
       "      <td>0.011896</td>\n",
       "      <td>0.011791</td>\n",
       "      <td>0.003397</td>\n",
       "    </tr>\n",
       "  </tbody>\n",
       "</table>\n",
       "<p>5 rows × 28 columns</p>\n",
       "</div>"
      ],
      "text/plain": [
       "   PERMNO       date  SHRCD  EXCHCD TICKER       COMNAM SHRCLS PRIMEXCH  \\\n",
       "0   10104 2009-01-02     11       3   ORCL  ORACLE CORP    NaN        Q   \n",
       "1   10104 2009-01-05     11       3   ORCL  ORACLE CORP    NaN        Q   \n",
       "2   10104 2009-01-06     11       3   ORCL  ORACLE CORP    NaN        Q   \n",
       "3   10104 2009-01-07     11       3   ORCL  ORACLE CORP    NaN        Q   \n",
       "4   10104 2009-01-08     11       3   ORCL  ORACLE CORP    NaN        Q   \n",
       "\n",
       "  TRDSTAT SECSTAT  ...    ASK     SHROUT  OPENPRC    NUMTRD      RETX  \\\n",
       "0       A       R  ...  18.39  5046177.0    17.64   83748.0  0.038353   \n",
       "1       A       R  ...  18.09  5046177.0    18.19   96278.0 -0.017382   \n",
       "2       A       R  ...  18.39  5046177.0    18.17  105581.0  0.016584   \n",
       "3       A       R  ...  17.65  5046177.0    18.06  116318.0 -0.040239   \n",
       "4       A       R  ...  17.62  5046177.0    17.50  112164.0   -0.0017   \n",
       "\n",
       "     vwretd    vwretx    ewretd    ewretx    sprtrn  \n",
       "0  0.030512  0.030311  0.038274  0.038221  0.031608  \n",
       "1 -0.000600 -0.000623  0.016764  0.016737 -0.004668  \n",
       "2  0.011305  0.011295  0.033647  0.033620  0.007817  \n",
       "3 -0.030516 -0.030889 -0.022271 -0.022326 -0.030010  \n",
       "4  0.006281  0.006247  0.011896  0.011791  0.003397  \n",
       "\n",
       "[5 rows x 28 columns]"
      ]
     },
     "execution_count": 6,
     "metadata": {},
     "output_type": "execute_result"
    }
   ],
   "source": [
    "return_data.head()"
   ]
  },
  {
   "cell_type": "code",
   "execution_count": 7,
   "metadata": {},
   "outputs": [],
   "source": [
    "return_data = return_data[return_data['RET'] != 'C']#['excess_ret']#.astype(float)\n",
    "return_data['RET'] = return_data['RET'].astype(float)"
   ]
  },
  {
   "cell_type": "code",
   "execution_count": 10,
   "metadata": {},
   "outputs": [],
   "source": [
    "sp_returns = return_data[['date', 'sprtrn']]"
   ]
  },
  {
   "cell_type": "code",
   "execution_count": 13,
   "metadata": {},
   "outputs": [],
   "source": [
    "sp_returns = sp_returns.set_index('date')"
   ]
  },
  {
   "cell_type": "code",
   "execution_count": 16,
   "metadata": {},
   "outputs": [],
   "source": [
    "weekly_sp_returns = sp_returns.groupby(pd.Grouper(level='date', freq='W-FRI')).sum(min_count=1)"
   ]
  },
  {
   "cell_type": "code",
   "execution_count": null,
   "metadata": {},
   "outputs": [],
   "source": []
  },
  {
   "cell_type": "code",
   "execution_count": 17,
   "metadata": {},
   "outputs": [],
   "source": [
    "weekly_sp_returns.to_pickle('weekly_sp_returns.pkl')"
   ]
  },
  {
   "cell_type": "code",
   "execution_count": null,
   "metadata": {},
   "outputs": [],
   "source": []
  }
 ],
 "metadata": {
  "interpreter": {
   "hash": "730efbd4681f598c9f4d35ac363e456b0abcc0de41ab2525c32205e7b077dac3"
  },
  "kernelspec": {
   "display_name": "Python 3.9.13 64-bit",
   "language": "python",
   "name": "python3"
  },
  "language_info": {
   "codemirror_mode": {
    "name": "ipython",
    "version": 3
   },
   "file_extension": ".py",
   "mimetype": "text/x-python",
   "name": "python",
   "nbconvert_exporter": "python",
   "pygments_lexer": "ipython3",
   "version": "3.9.13"
  },
  "orig_nbformat": 4
 },
 "nbformat": 4,
 "nbformat_minor": 2
}
